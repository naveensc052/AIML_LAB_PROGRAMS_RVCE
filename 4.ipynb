{
 "cells": [
  {
   "cell_type": "code",
   "execution_count": 11,
   "id": "bd9266fc",
   "metadata": {},
   "outputs": [
    {
     "name": "stdout",
     "output_type": "stream",
     "text": [
      "Max iterations reached.\n",
      "The value of x that maximises the function is 67.99999999999488.\n"
     ]
    }
   ],
   "source": [
    "import random\n",
    "import numpy as np\n",
    "\n",
    "def hill_climbing_search(func, x0, delta=0.01, tol=1e-6, max_iter=1000):\n",
    "    x = x0\n",
    "    i = 0\n",
    "\n",
    "    while True:\n",
    "        i += 1\n",
    "        x_up = x + delta\n",
    "        x_down = x - delta\n",
    "\n",
    "        f_x_up = func(x_up)\n",
    "        f_x_down = func(x_down)\n",
    "\n",
    "        if i > max_iter:\n",
    "            print(\"Max iterations reached.\")\n",
    "            break\n",
    "\n",
    "        if f_x_up < f_x_down:\n",
    "            x = x_down\n",
    "        else:\n",
    "            x = x_up\n",
    "\n",
    "        if abs(x - x0) < tol:\n",
    "            break\n",
    "\n",
    "        x0 = x\n",
    "\n",
    "    return x\n",
    "\n",
    "\n",
    "def func(x):\n",
    "    return -0.2*x**4 + 1.5*x**3 - 3*x**2 + 2*x + 10*np.sin(x)\n",
    "\n",
    "x0 = 78\n",
    "\n",
    "x_max = hill_climbing_search(func, x0)\n",
    "\n",
    "print(f\"The value of x that maximises the function is {x_max}.\")"
   ]
  }
 ],
 "metadata": {
  "kernelspec": {
   "display_name": "Python 3 (ipykernel)",
   "language": "python",
   "name": "python3"
  },
  "language_info": {
   "codemirror_mode": {
    "name": "ipython",
    "version": 3
   },
   "file_extension": ".py",
   "mimetype": "text/x-python",
   "name": "python",
   "nbconvert_exporter": "python",
   "pygments_lexer": "ipython3",
   "version": "3.11.5"
  }
 },
 "nbformat": 4,
 "nbformat_minor": 5
}
